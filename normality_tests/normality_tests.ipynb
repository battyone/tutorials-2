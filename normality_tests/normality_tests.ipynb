{
  "nbformat": 4,
  "nbformat_minor": 0,
  "metadata": {
    "colab": {
      "name": "pdf_estimation.ipynb",
      "version": "0.3.2",
      "provenance": [],
      "collapsed_sections": []
    },
    "kernelspec": {
      "name": "python3",
      "display_name": "Python 3"
    }
  },
  "cells": [
    {
      "metadata": {
        "id": "EwA5AKT0vpi_",
        "colab_type": "code",
        "colab": {}
      },
      "cell_type": "code",
      "source": [
        "import matplotlib.pyplot as plt\n",
        "import seaborn as sns\n",
        "color = sns.color_palette()\n",
        "sns.set_style('darkgrid')\n",
        "%matplotlib inline\n",
        "\n",
        "import pandas as pd\n",
        "import numpy as np\n",
        "from numpy.random import randn\n",
        "from scipy import stats\n",
        "from statsmodels.graphics.gofplots import qqplot\n",
        "from numpy.linalg import inv\n",
        "\n",
        "from sklearn.datasets import load_boston"
      ],
      "execution_count": 0,
      "outputs": []
    },
    {
      "metadata": {
        "id": "Ka4BUggS0hHE",
        "colab_type": "text"
      },
      "cell_type": "markdown",
      "source": [
        "### Normally distributed data"
      ]
    },
    {
      "metadata": {
        "id": "SJ1xaEH05oX9",
        "colab_type": "code",
        "colab": {
          "base_uri": "https://localhost:8080/",
          "height": 282
        },
        "outputId": "4b7b07df-a5c1-4169-c7dd-cbea2647329c"
      },
      "cell_type": "code",
      "source": [
        "normal_data = 5 * randn(1000) + 50  # mean = 50, std = 5\n",
        "sns.distplot(normal_data)"
      ],
      "execution_count": 4,
      "outputs": [
        {
          "output_type": "execute_result",
          "data": {
            "text/plain": [
              "<matplotlib.axes._subplots.AxesSubplot at 0x7f1bffd28780>"
            ]
          },
          "metadata": {
            "tags": []
          },
          "execution_count": 4
        },
        {
          "output_type": "display_data",
          "data": {
            "image/png": "[encoded data removed]",
            "text/plain": [
              "<matplotlib.figure.Figure at 0x7f1c1ebbb6a0>"
            ]
          },
          "metadata": {
            "tags": []
          }
        }
      ]
    },
    {
      "metadata": {
        "id": "G3l0z0VP0az3",
        "colab_type": "text"
      },
      "cell_type": "markdown",
      "source": [
        "### Real data"
      ]
    },
    {
      "metadata": {
        "id": "Vy1X1CQ6wBxX",
        "colab_type": "code",
        "colab": {
          "base_uri": "https://localhost:8080/",
          "height": 296
        },
        "outputId": "b1c5689c-8e39-4ce5-cb82-d58f6d84faa4"
      },
      "cell_type": "code",
      "source": [
        "boston = load_boston(return_X_y=False)\n",
        "df = pd.DataFrame(boston.data, columns=boston.feature_names)\n",
        "# df.head()\n",
        "sns.distplot(df['LSTAT'], kde=True)"
      ],
      "execution_count": 3,
      "outputs": [
        {
          "output_type": "execute_result",
          "data": {
            "text/plain": [
              "<matplotlib.axes._subplots.AxesSubplot at 0x7f1c025794e0>"
            ]
          },
          "metadata": {
            "tags": []
          },
          "execution_count": 3
        },
        {
          "output_type": "display_data",
          "data": {
            "image/png": "[encoded data removed]",
            "text/plain": [
              "<matplotlib.figure.Figure at 0x7f1c025adeb8>"
            ]
          },
          "metadata": {
            "tags": []
          }
        }
      ]
    },
    {
      "metadata": {
        "id": "HWzvVckF0q-Y",
        "colab_type": "text"
      },
      "cell_type": "markdown",
      "source": [
        "# Проверка на нормальность"
      ]
    },
    {
      "metadata": {
        "id": "3R2gy1fd6zoJ",
        "colab_type": "text"
      },
      "cell_type": "markdown",
      "source": [
        "## Quantile-Quantile plot"
      ]
    },
    {
      "metadata": {
        "id": "DlEDC3AJ7sEO",
        "colab_type": "text"
      },
      "cell_type": "markdown",
      "source": [
        "### Normally distributed data"
      ]
    },
    {
      "metadata": {
        "id": "6mfh-6jp5deb",
        "colab_type": "code",
        "colab": {
          "base_uri": "https://localhost:8080/",
          "height": 296
        },
        "outputId": "cd3a1502-40f3-45d7-c076-21cc7c738429"
      },
      "cell_type": "code",
      "source": [
        "qqplot(normal_data, line='s'), plt.show()"
      ],
      "execution_count": 5,
      "outputs": [
        {
          "output_type": "display_data",
          "data": {
            "image/png": "[encoded data removed]",
            "text/plain": [
              "<matplotlib.figure.Figure at 0x7f1c0431f6a0>"
            ]
          },
          "metadata": {
            "tags": []
          }
        },
        {
          "output_type": "execute_result",
          "data": {
            "text/plain": [
              "(<matplotlib.figure.Figure at 0x7f1c0431f6a0>, None)"
            ]
          },
          "metadata": {
            "tags": []
          },
          "execution_count": 5
        }
      ]
    },
    {
      "metadata": {
        "id": "bIA68Qsf7AXH",
        "colab_type": "text"
      },
      "cell_type": "markdown",
      "source": [
        "Normal distribution lies right on diagonal line. Small deviations are caused by small sample size. "
      ]
    },
    {
      "metadata": {
        "id": "tJKw_nsm7pyD",
        "colab_type": "text"
      },
      "cell_type": "markdown",
      "source": [
        "### Real data"
      ]
    },
    {
      "metadata": {
        "id": "AFZ17OBz6fq8",
        "colab_type": "code",
        "colab": {
          "base_uri": "https://localhost:8080/",
          "height": 299
        },
        "outputId": "96b8ba92-1576-4aeb-f225-add5248f47da"
      },
      "cell_type": "code",
      "source": [
        "qqplot(df['RM'], line='s'), plt.show()"
      ],
      "execution_count": 6,
      "outputs": [
        {
          "output_type": "display_data",
          "data": {
            "image/png": "[encoded data removed]",
            "text/plain": [
              "<matplotlib.figure.Figure at 0x7f1bffbf8470>"
            ]
          },
          "metadata": {
            "tags": []
          }
        },
        {
          "output_type": "execute_result",
          "data": {
            "text/plain": [
              "(<matplotlib.figure.Figure at 0x7f1bffbf8470>, None)"
            ]
          },
          "metadata": {
            "tags": []
          },
          "execution_count": 6
        }
      ]
    },
    {
      "metadata": {
        "id": "mY-EYEeMwR-P",
        "colab_type": "text"
      },
      "cell_type": "markdown",
      "source": [
        "# Anderson–Darling test"
      ]
    },
    {
      "metadata": {
        "id": "F8mixSuvwVaV",
        "colab_type": "text"
      },
      "cell_type": "markdown",
      "source": [
        "https://docs.scipy.org/doc/scipy/reference/generated/scipy.stats.normaltest.html"
      ]
    },
    {
      "metadata": {
        "id": "NVd4BXNOzL9w",
        "colab_type": "text"
      },
      "cell_type": "markdown",
      "source": [
        "![alt text](https://upload.wikimedia.org/wikipedia/commons/thumb/3/3a/P-value_in_statistical_significance_testing.svg/400px-P-value_in_statistical_significance_testing.svg.png)\n"
      ]
    },
    {
      "metadata": {
        "id": "ds-ifRfVwinv",
        "colab_type": "text"
      },
      "cell_type": "markdown",
      "source": [
        "### Normally distributed data"
      ]
    },
    {
      "metadata": {
        "id": "0ifLHmqwwb82",
        "colab_type": "code",
        "colab": {
          "base_uri": "https://localhost:8080/",
          "height": 51
        },
        "outputId": "8f994cea-088f-4987-890e-67c000933fc7"
      },
      "cell_type": "code",
      "source": [
        "test_statistic, p_value = stats.normaltest(normal_data)\n",
        "print(f'test_statistic: {test_statistic}')\n",
        "print(f'p_value: {p_value}')"
      ],
      "execution_count": 7,
      "outputs": [
        {
          "output_type": "stream",
          "text": [
            "test_statistic: 0.3797955278733316\n",
            "p_value: 0.8270436833116785\n"
          ],
          "name": "stdout"
        }
      ]
    },
    {
      "metadata": {
        "id": "t7h5FR-2xUUm",
        "colab_type": "text"
      },
      "cell_type": "markdown",
      "source": [
        "$p\\_value = P(\\chi^2 < -test\\_statistic \\text{ or } \\chi^2 > test\\_statistic \\,|\\, H_0 = [x \\sim Normal])$ \n",
        "\n",
        "$p\\_value > 0.05$ $\\Rightarrow$ H_0 is not rejected $\\Rightarrow$ *normal distr*\n"
      ]
    },
    {
      "metadata": {
        "id": "z1zZ9RXtzkqX",
        "colab_type": "text"
      },
      "cell_type": "markdown",
      "source": [
        "### Real data"
      ]
    },
    {
      "metadata": {
        "id": "Vw429E0qzpA0",
        "colab_type": "code",
        "colab": {
          "base_uri": "https://localhost:8080/",
          "height": 51
        },
        "outputId": "854d6654-ffeb-4f89-91cc-f1a8d5935af2"
      },
      "cell_type": "code",
      "source": [
        "test_statistic, p_value = stats.normaltest(df['LSTAT'])\n",
        "print(f'test_statistic: {test_statistic}')\n",
        "print(f'p_value: {p_value}')"
      ],
      "execution_count": 8,
      "outputs": [
        {
          "output_type": "stream",
          "text": [
            "test_statistic: 57.20741558175866\n",
            "p_value: 3.7806593212903944e-13\n"
          ],
          "name": "stdout"
        }
      ]
    },
    {
      "metadata": {
        "id": "1IKXP-4e20UX",
        "colab_type": "text"
      },
      "cell_type": "markdown",
      "source": [
        "## Shapiro-Wilk test"
      ]
    },
    {
      "metadata": {
        "id": "LgYptllsAGO6",
        "colab_type": "text"
      },
      "cell_type": "markdown",
      "source": [
        "$W = {\\left(\\sum_{i=1}^n a_i x_{(i)}\\right)^2 \\over \\sum_{i=1}^n (x_i-\\overline{x})^2}$ - test statistic \n",
        "\n",
        "where\n",
        "* $(a_1,\\dots,a_n) = {m^{\\mathsf{T}} V^{-1} \\over (m^{\\mathsf{T}} V^{-1}V^{-1}m)^{1/2}}$\n",
        "* $\\overline{x} = \\left( x_1 + \\cdots + x_n \\right)$\n",
        "* $m = (m_1,\\dots,m_n)^{\\mathsf{T}}$ -  expected values of the order statistics of independent and identically distributed random variables sampled from the standard normal distribution\n",
        "* $V$ -  covariance matrix of those order statistics\n",
        "\n",
        "---\n",
        "**Interpretation**\n",
        "\n",
        "The null-hypothesis (H0) of this test is that the population is normally distributed. Thus, on the one hand, if the p-value is less than the chosen alpha level, then the null hypothesis is rejected and there is evidence that the data tested are not normally distributed. On the other hand, if the p-value is greater than the chosen alpha level, then the null hypothesis that the data came from a normally distributed population can not be rejected (e.g., for an alpha level of 0.05, a data set with a p-value of 0.05 rejects the null hypothesis that the data are from a normally distributed population)."
      ]
    },
    {
      "metadata": {
        "id": "SsYaznbg-Fm6",
        "colab_type": "text"
      },
      "cell_type": "markdown",
      "source": [
        "### Normally distributed data"
      ]
    },
    {
      "metadata": {
        "id": "dLF8Y2Uw96ME",
        "colab_type": "code",
        "colab": {
          "base_uri": "https://localhost:8080/",
          "height": 51
        },
        "outputId": "94be3fb1-5cb1-41b4-9f14-056a0df9b613"
      },
      "cell_type": "code",
      "source": [
        "test_statistic, p_value = stats.shapiro(normal_data)\n",
        "print(f'test_statistic: {test_statistic}')\n",
        "print(f'p_value: {p_value}')"
      ],
      "execution_count": 9,
      "outputs": [
        {
          "output_type": "stream",
          "text": [
            "test_statistic: 0.9991170763969421\n",
            "p_value: 0.9264519810676575\n"
          ],
          "name": "stdout"
        }
      ]
    },
    {
      "metadata": {
        "id": "Cn8e5fGA-Qpc",
        "colab_type": "text"
      },
      "cell_type": "markdown",
      "source": [
        "p-value > 0.05, hence we cannot reject the hypothesis that the sample comes from a population which has a normal distribution (fail to reject H0)"
      ]
    },
    {
      "metadata": {
        "id": "2DhYE_zs_AM6",
        "colab_type": "text"
      },
      "cell_type": "markdown",
      "source": [
        "### Real data"
      ]
    },
    {
      "metadata": {
        "id": "9n1it-xv0pIi",
        "colab_type": "code",
        "colab": {
          "base_uri": "https://localhost:8080/",
          "height": 34
        },
        "outputId": "24c84f6a-8988-40ad-d56b-ee2e6daae1b7"
      },
      "cell_type": "code",
      "source": [
        "test_statistic, p_value = stats.shapiro(df['LSTAT'])\n",
        "p_value"
      ],
      "execution_count": 10,
      "outputs": [
        {
          "output_type": "execute_result",
          "data": {
            "text/plain": [
              "8.285112504911873e-14"
            ]
          },
          "metadata": {
            "tags": []
          },
          "execution_count": 10
        }
      ]
    },
    {
      "metadata": {
        "id": "pZNs-ygO_yaF",
        "colab_type": "text"
      },
      "cell_type": "markdown",
      "source": [
        "Sample does not look like normal (reject H0)"
      ]
    }
  ]
}